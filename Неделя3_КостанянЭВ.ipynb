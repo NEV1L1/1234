{
  "nbformat": 4,
  "nbformat_minor": 0,
  "metadata": {
    "colab": {
      "provenance": [],
      "authorship_tag": "ABX9TyNOLp9oajfd1i+J6hKwy8w3",
      "include_colab_link": true
    },
    "kernelspec": {
      "name": "python3",
      "display_name": "Python 3"
    },
    "language_info": {
      "name": "python"
    }
  },
  "cells": [
    {
      "cell_type": "markdown",
      "metadata": {
        "id": "view-in-github",
        "colab_type": "text"
      },
      "source": [
        "<a href=\"https://colab.research.google.com/github/NEV1L1/1234/blob/main/%D0%9D%D0%B5%D0%B4%D0%B5%D0%BB%D1%8F3_%D0%9A%D0%BE%D1%81%D1%82%D0%B0%D0%BD%D1%8F%D0%BD%D0%AD%D0%92.ipynb\" target=\"_parent\"><img src=\"https://colab.research.google.com/assets/colab-badge.svg\" alt=\"Open In Colab\"/></a>"
      ]
    },
    {
      "cell_type": "markdown",
      "source": [
        "# Задание **1** не смог с ней разобраться("
      ],
      "metadata": {
        "id": "yc488BM7jDne"
      }
    },
    {
      "cell_type": "code",
      "execution_count": 5,
      "metadata": {
        "colab": {
          "base_uri": "https://localhost:8080/"
        },
        "id": "L1xsSzvwinM7",
        "outputId": "6c6921f2-334c-477c-bcbe-11a5660596ee"
      },
      "outputs": [
        {
          "output_type": "stream",
          "name": "stdout",
          "text": [
            "8\n",
            "мир\n"
          ]
        }
      ],
      "source": [
        "def find_substring(a, b):\n",
        "    lower_a = a.lower()\n",
        "    lower_b = b.lower()\n",
        "    index = lower_a.find(lower_b)\n",
        "    if index != -1:\n",
        "        found_substring = a[index:index + len(b)]\n",
        "        return index, found_substring\n",
        "    else:\n",
        "        return -1\n",
        "a = \"Привет, мир, пока\"\n",
        "b = \"Мир\""
      ]
    },
    {
      "cell_type": "markdown",
      "source": [
        "# **Задание 2**"
      ],
      "metadata": {
        "id": "Hln2Z6t8jC3t"
      }
    },
    {
      "cell_type": "code",
      "source": [
        "def get_lengths_of_sequences(input_string):\n",
        "    sequences = input_string.split(',')\n",
        "    lengths = [len(seq) for seq in sequences]\n",
        "    return lengths\n",
        "input_string = input(\"Введите последовательность символов, разделенных запятыми: \")\n",
        "lengths = get_lengths_of_sequences(input_string)\n",
        "print(','.join(map(str, lengths)))"
      ],
      "metadata": {
        "colab": {
          "base_uri": "https://localhost:8080/"
        },
        "id": "bR2PcDjZkQjI",
        "outputId": "6c5f4ad0-d95e-4662-c292-4d7bba4ddb29"
      },
      "execution_count": 6,
      "outputs": [
        {
          "output_type": "stream",
          "name": "stdout",
          "text": [
            "Введите последовательность символов, разделенных запятыми: 123,1222,5555\n",
            "3,4,4\n"
          ]
        }
      ]
    },
    {
      "cell_type": "markdown",
      "source": [
        "# Задание **3**"
      ],
      "metadata": {
        "id": "V2_wog7IkatY"
      }
    },
    {
      "cell_type": "code",
      "source": [
        "stroka = \"Привет, мир\"\n",
        "n = 8\n",
        "m = 5\n",
        "words = stroka.replace(',', '').split()\n",
        "part1 = []\n",
        "part2 = []\n",
        "current_length = 0\n",
        "for word in words:\n",
        "    current_length += len(word) + 1\n",
        "    if current_length > n:\n",
        "        break\n",
        "    part1.append(word)\n",
        "current_length = 0\n",
        "for word in words:\n",
        "    if current_length >= m:\n",
        "        part2.append(word)\n",
        "    current_length += len(word) + 1\n",
        "print(part1, part2)"
      ],
      "metadata": {
        "colab": {
          "base_uri": "https://localhost:8080/"
        },
        "id": "wnwctLqCkdUP",
        "outputId": "a3abfed8-45fe-4738-f148-f3c8819c407b"
      },
      "execution_count": 11,
      "outputs": [
        {
          "output_type": "stream",
          "name": "stdout",
          "text": [
            "['Привет'] ['мир']\n"
          ]
        }
      ]
    }
  ]
}