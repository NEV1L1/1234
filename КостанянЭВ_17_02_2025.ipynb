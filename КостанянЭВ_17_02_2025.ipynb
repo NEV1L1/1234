{
  "nbformat": 4,
  "nbformat_minor": 0,
  "metadata": {
    "colab": {
      "provenance": [],
      "authorship_tag": "ABX9TyPnTOw6QtczBYIo9Y6x89Hi",
      "include_colab_link": true
    },
    "kernelspec": {
      "name": "python3",
      "display_name": "Python 3"
    },
    "language_info": {
      "name": "python"
    }
  },
  "cells": [
    {
      "cell_type": "markdown",
      "metadata": {
        "id": "view-in-github",
        "colab_type": "text"
      },
      "source": [
        "<a href=\"https://colab.research.google.com/github/NEV1L1/1234/blob/main/%D0%9A%D0%BE%D1%81%D1%82%D0%B0%D0%BD%D1%8F%D0%BD%D0%AD%D0%92_17_02_2025.ipynb\" target=\"_parent\"><img src=\"https://colab.research.google.com/assets/colab-badge.svg\" alt=\"Open In Colab\"/></a>"
      ]
    },
    {
      "cell_type": "code",
      "execution_count": 14,
      "metadata": {
        "colab": {
          "base_uri": "https://localhost:8080/"
        },
        "id": "1r6-cL2c6z4-",
        "outputId": "4114c67f-a5cf-4775-f53f-a90782e20cde"
      },
      "outputs": [
        {
          "output_type": "stream",
          "name": "stdout",
          "text": [
            "Как вас зовут?: artem\n",
            "Сколько тебе лет?: 22\n",
            "Какой у тебя рост?: 180\n",
            "Привет artem! Тебе 22 лет, и твой рост: 180\n"
          ]
        }
      ],
      "source": [
        "name = input(\"Как вас зовут?: \")\n",
        "age = input(\"Сколько тебе лет?: \")\n",
        "metr = input(\"Какой у тебя рост?: \")\n",
        "print(f'Привет {name}! Тебе {age} лет, и твой рост: {metr}')"
      ]
    },
    {
      "cell_type": "code",
      "source": [],
      "metadata": {
        "id": "wflAHIJqGTXG"
      },
      "execution_count": null,
      "outputs": []
    },
    {
      "cell_type": "code",
      "source": [
        "num = int(input(\"введите целое число:\"))\n",
        "if num % 2 == 0:\n",
        "  print(\"Число четное.\")\n",
        "else:\n",
        "  print(\"Число нечетное.\")\n",
        "if num > 0:\n",
        "  print(\"Число положительное.\")\n",
        "elif num < 0:\n",
        "  print(\"число неположительное.\")\n",
        "else:\n",
        "  print(\"число = 0\")"
      ],
      "metadata": {
        "colab": {
          "base_uri": "https://localhost:8080/"
        },
        "id": "dNDWMItH9Mfw",
        "outputId": "de7bafc4-6411-4738-cb46-f143c8738fd3"
      },
      "execution_count": 7,
      "outputs": [
        {
          "output_type": "stream",
          "name": "stdout",
          "text": [
            "введите целое число:0\n",
            "Число четное.\n",
            "число = 0\n"
          ]
        }
      ]
    },
    {
      "cell_type": "code",
      "source": [
        "numbers = [int(input(\"Введите число: \")) for x in range(5)]\n",
        "print(\"Сумма:\", sum(numbers))\n",
        "print(\"Максимум:\", max(numbers))\n",
        "print(\"Минимум:\", min(numbers))"
      ],
      "metadata": {
        "colab": {
          "base_uri": "https://localhost:8080/"
        },
        "id": "TZgLmpqU-Zas",
        "outputId": "a923353c-8806-458e-a6b7-1055ec9a3974"
      },
      "execution_count": 8,
      "outputs": [
        {
          "output_type": "stream",
          "name": "stdout",
          "text": [
            "Введите число: 12\n",
            "Введите число: 11111113\n",
            "Введите число: 21\n",
            "Введите число: 21\n",
            "Введите число: 3\n",
            "Сумма: 11111170\n",
            "Максимум: 11111113\n",
            "Минимум: 3\n"
          ]
        }
      ]
    },
    {
      "cell_type": "code",
      "source": [
        "def sum_of_evens(number):\n",
        "  total = 0\n",
        "  for num in numbers:\n",
        "    if num % 2 == 0:\n",
        "      total += num\n",
        "  return total\n",
        "print(sum_of_evens([1, 2, 3, 4, 5, 6])) # 12 должно получится"
      ],
      "metadata": {
        "colab": {
          "base_uri": "https://localhost:8080/"
        },
        "id": "c9iKetWCBFiF",
        "outputId": "20c802d5-ecf1-404f-ca0c-b99da6da9378"
      },
      "execution_count": 10,
      "outputs": [
        {
          "output_type": "stream",
          "name": "stdout",
          "text": [
            "12\n"
          ]
        }
      ]
    },
    {
      "cell_type": "code",
      "source": [
        "def generate_squares(n):\n",
        "  return [x**2 for x in range(1, n+1)]\n",
        "print(generate_squares(5))"
      ],
      "metadata": {
        "colab": {
          "base_uri": "https://localhost:8080/"
        },
        "id": "JkigaJd8BlC1",
        "outputId": "1c06eeef-c5af-4871-f630-4eee51e22085"
      },
      "execution_count": 11,
      "outputs": [
        {
          "output_type": "stream",
          "name": "stdout",
          "text": [
            "[1, 4, 9, 16, 25]\n"
          ]
        }
      ]
    },
    {
      "cell_type": "code",
      "source": [
        "def filter_noise(signal, threshold):\n",
        "  return [x for x in signal if abs(x) >= threshold]\n",
        "print(filter_noise([0.1, 0.5, -0.3, 0.8, -0.9, 0.2], 0.4))"
      ],
      "metadata": {
        "colab": {
          "base_uri": "https://localhost:8080/"
        },
        "id": "rA5ZxfCFCi1j",
        "outputId": "fd5e5ebf-f27b-4fbb-c0af-cb75785943df"
      },
      "execution_count": 13,
      "outputs": [
        {
          "output_type": "stream",
          "name": "stdout",
          "text": [
            "[0.5, 0.8, -0.9]\n"
          ]
        }
      ]
    },
    {
      "cell_type": "code",
      "source": [
        "def normalize_signal(signal):\n",
        "  maxx = max(abs(x) for x in signal)\n",
        "  return [x / maxx for x in signal]\n",
        "print(normalize_signal([2, -4, 6, -8, 10]))"
      ],
      "metadata": {
        "colab": {
          "base_uri": "https://localhost:8080/"
        },
        "id": "c7zUX-vnGVDC",
        "outputId": "f1aa5d79-eab5-4d97-d5af-e4002440a5b8"
      },
      "execution_count": 18,
      "outputs": [
        {
          "output_type": "stream",
          "name": "stdout",
          "text": [
            "[0.2, -0.4, 0.6, -0.8, 1.0]\n"
          ]
        }
      ]
    }
  ]
}