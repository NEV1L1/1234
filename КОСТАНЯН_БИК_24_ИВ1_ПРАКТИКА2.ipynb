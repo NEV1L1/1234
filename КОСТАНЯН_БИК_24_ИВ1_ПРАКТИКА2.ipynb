{
  "nbformat": 4,
  "nbformat_minor": 0,
  "metadata": {
    "colab": {
      "provenance": [],
      "authorship_tag": "ABX9TyPGFz4znwwDK2ca0cy+tqHt",
      "include_colab_link": true
    },
    "kernelspec": {
      "name": "python3",
      "display_name": "Python 3"
    },
    "language_info": {
      "name": "python"
    }
  },
  "cells": [
    {
      "cell_type": "markdown",
      "metadata": {
        "id": "view-in-github",
        "colab_type": "text"
      },
      "source": [
        "<a href=\"https://colab.research.google.com/github/NEV1L1/1234/blob/main/%D0%9A%D0%9E%D0%A1%D0%A2%D0%90%D0%9D%D0%AF%D0%9D_%D0%91%D0%98%D0%9A_24_%D0%98%D0%921_%D0%9F%D0%A0%D0%90%D0%9A%D0%A2%D0%98%D0%9A%D0%902.ipynb\" target=\"_parent\"><img src=\"https://colab.research.google.com/assets/colab-badge.svg\" alt=\"Open In Colab\"/></a>"
      ]
    },
    {
      "cell_type": "code",
      "source": [
        "t = int(input('Введите трёхначное число: '))\n",
        "a = t % 10\n",
        "t = t // 10\n",
        "b = t % 10\n",
        "t = t // 10\n",
        "c = t % 10\n",
        "print(c,b,a)\n"
      ],
      "metadata": {
        "colab": {
          "base_uri": "https://localhost:8080/"
        },
        "id": "qgjZ9pt-G34T",
        "outputId": "d779945c-a86d-4f00-8930-d463b39eba6a"
      },
      "execution_count": 12,
      "outputs": [
        {
          "output_type": "stream",
          "name": "stdout",
          "text": [
            "Введите трёхначное число: 234\n",
            "2 3 4\n"
          ]
        }
      ]
    },
    {
      "cell_type": "code",
      "execution_count": 6,
      "metadata": {
        "colab": {
          "base_uri": "https://localhost:8080/"
        },
        "id": "mWsWixZ7En63",
        "outputId": "a9ba8122-1723-4c95-d627-1f0cdc686cc9"
      },
      "outputs": [
        {
          "output_type": "stream",
          "name": "stdout",
          "text": [
            "312.5\n"
          ]
        }
      ],
      "source": [
        "a1 = 25\n",
        "a2 = 25\n",
        "s = (a1 * a2) / 2\n",
        "print(s)"
      ]
    },
    {
      "cell_type": "code",
      "source": [
        "s = int(input(\"введите сколько секунд: \"))\n",
        "\n",
        "h = s % 120\n",
        "min = s // 60\n"
      ],
      "metadata": {
        "colab": {
          "base_uri": "https://localhost:8080/"
        },
        "id": "bIZ2VrrUEzeW",
        "outputId": "5477e1b5-f9f0-431c-9a59-6335209757a3"
      },
      "execution_count": 15,
      "outputs": [
        {
          "output_type": "stream",
          "name": "stdout",
          "text": [
            "введите сколько секунд: 1200\n",
            "Сейчас 0 : 20 : 1200 времени\n"
          ]
        }
      ]
    }
  ]
}