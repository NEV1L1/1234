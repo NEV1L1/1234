{
  "nbformat": 4,
  "nbformat_minor": 0,
  "metadata": {
    "colab": {
      "provenance": [],
      "authorship_tag": "ABX9TyMhNW6BNk4dKHsgIqsjHFL+",
      "include_colab_link": true
    },
    "kernelspec": {
      "name": "python3",
      "display_name": "Python 3"
    },
    "language_info": {
      "name": "python"
    }
  },
  "cells": [
    {
      "cell_type": "markdown",
      "metadata": {
        "id": "view-in-github",
        "colab_type": "text"
      },
      "source": [
        "<a href=\"https://colab.research.google.com/github/NEV1L1/1234/blob/main/%D0%BA%D0%BE%D1%81%D1%82%D0%B0%D0%BD%D1%8F%D0%BD%D0%AD%D0%92_%D0%9B%D0%90%D0%91%D0%9E%D0%A0%D0%9E%D0%A2%D0%9E%D0%A0%D0%9A%D0%90.ipynb\" target=\"_parent\"><img src=\"https://colab.research.google.com/assets/colab-badge.svg\" alt=\"Open In Colab\"/></a>"
      ]
    },
    {
      "cell_type": "code",
      "execution_count": 1,
      "metadata": {
        "colab": {
          "base_uri": "https://localhost:8080/"
        },
        "id": "jYEOurfj3xna",
        "outputId": "2d0ba74b-02ac-41c7-8fc4-bd10b243a540"
      },
      "outputs": [
        {
          "output_type": "stream",
          "name": "stdout",
          "text": [
            "1 0.5 Text True\n"
          ]
        }
      ],
      "source": [
        "a = int(1)\n",
        "b = float(0.5)\n",
        "c = str('Text')\n",
        "d = bool(True)\n",
        "\n",
        "print(a, b, c, d) #1 0.5 Text True"
      ]
    },
    {
      "cell_type": "code",
      "source": [
        "name = 'Ernest'\n",
        "age = '18'\n",
        "print(name, age) #Ernest 18"
      ],
      "metadata": {
        "colab": {
          "base_uri": "https://localhost:8080/"
        },
        "id": "es1H_wQI4jzx",
        "outputId": "4e781ae9-f212-439c-84e7-7f65f91dd2e4"
      },
      "execution_count": 2,
      "outputs": [
        {
          "output_type": "stream",
          "name": "stdout",
          "text": [
            "Ernest 18\n"
          ]
        }
      ]
    },
    {
      "cell_type": "code",
      "source": [
        "a = 342\n",
        "b = 56.2\n",
        "c = '43'\n",
        "summ = float(a) + b + float(c)\n",
        "print(summ) #441.2"
      ],
      "metadata": {
        "colab": {
          "base_uri": "https://localhost:8080/"
        },
        "id": "T5AkSP2T4ohL",
        "outputId": "5bfd13d3-930b-4f4e-9ece-358edcc18910"
      },
      "execution_count": 6,
      "outputs": [
        {
          "output_type": "stream",
          "name": "stdout",
          "text": [
            "441.2\n"
          ]
        }
      ]
    },
    {
      "cell_type": "code",
      "source": [
        "a = 3\n",
        "b = 8\n",
        "print(\n",
        "    (a + (4*b))*(a - (3*b)) + a**2\n",
        ")"
      ],
      "metadata": {
        "colab": {
          "base_uri": "https://localhost:8080/"
        },
        "id": "30eSNARX5DdD",
        "outputId": "ef8f2274-c773-4c97-f8ea-9b054348ba53"
      },
      "execution_count": 7,
      "outputs": [
        {
          "output_type": "stream",
          "name": "stdout",
          "text": [
            "-726\n"
          ]
        }
      ]
    },
    {
      "cell_type": "code",
      "source": [
        "a = int(input(\"Введите значение стороны a: \"))\n",
        "a = int(input(\"Введите значение стороны b: \"))\n",
        "flat = a*b\n",
        "d = ((a**2)+(b**2))**0.1\n",
        "print(flat, d)"
      ],
      "metadata": {
        "colab": {
          "base_uri": "https://localhost:8080/"
        },
        "id": "u7iWknZD5Vnd",
        "outputId": "bb3b6dde-4fef-4660-8c33-880ae1dedd1a"
      },
      "execution_count": 8,
      "outputs": [
        {
          "output_type": "stream",
          "name": "stdout",
          "text": [
            "Введите значение стороны a: 2\n",
            "Введите значение стороны b: 2\n",
            "16 1.5249334511509007\n"
          ]
        }
      ]
    },
    {
      "cell_type": "code",
      "source": [
        "a, b = 10, 5\n",
        "print(a + b, a - b, a * b, a / b, a // b, a % b, a ** b)\n",
        "print(a > b, a < b, a == b, a != b, a >= b, a <= b)"
      ],
      "metadata": {
        "colab": {
          "base_uri": "https://localhost:8080/"
        },
        "id": "BpoKIJ1I5zNa",
        "outputId": "67dbbf56-2e46-4952-8720-021a7fe5d89b"
      },
      "execution_count": 9,
      "outputs": [
        {
          "output_type": "stream",
          "name": "stdout",
          "text": [
            "15 5 50 2.0 2 0 100000\n",
            "True False False True True False\n"
          ]
        }
      ]
    },
    {
      "cell_type": "code",
      "source": [
        "name, age = \"Иван\", 25\n",
        "print(f\"Меня зовут {name}, мне {age} лет.\")"
      ],
      "metadata": {
        "colab": {
          "base_uri": "https://localhost:8080/"
        },
        "id": "l6wP5J4G6ExB",
        "outputId": "309c8d4c-8e19-40a2-e727-2ef34a058f8f"
      },
      "execution_count": 10,
      "outputs": [
        {
          "output_type": "stream",
          "name": "stdout",
          "text": [
            "Меня зовут Иван, мне 25 лет.\n"
          ]
        }
      ]
    },
    {
      "cell_type": "code",
      "source": [
        "word1, word2, word3, word4, word5 = \"Съешь\", \"ещё\", \"этих мягких\", \"французских булок,\", \"да выпей чаю\"\n",
        "sentence = word1 + \" \" + word2 + \" \" + word3 + \" \" + word4 + \" \" + word5\n",
        "print(sentence)"
      ],
      "metadata": {
        "colab": {
          "base_uri": "https://localhost:8080/"
        },
        "id": "TwCoX4El6HMD",
        "outputId": "c1868a23-24c8-46be-9520-073fabe30e51"
      },
      "execution_count": 11,
      "outputs": [
        {
          "output_type": "stream",
          "name": "stdout",
          "text": [
            "Съешь ещё этих мягких французских булок, да выпей чаю\n"
          ]
        }
      ]
    },
    {
      "cell_type": "code",
      "source": [
        "sentence = \"Нет! Да! \" * 4\n",
        "print(sentence)"
      ],
      "metadata": {
        "colab": {
          "base_uri": "https://localhost:8080/"
        },
        "id": "9nsrt_pf6JxZ",
        "outputId": "4c61d8a9-1316-468e-f589-c56277822f61"
      },
      "execution_count": 12,
      "outputs": [
        {
          "output_type": "stream",
          "name": "stdout",
          "text": [
            "Нет! Да! Нет! Да! Нет! Да! Нет! Да! \n"
          ]
        }
      ]
    },
    {
      "cell_type": "code",
      "source": [
        "numbers = input(\"Введите 3 числа, разделённых запятой: \").split(',')\n",
        "a, b, c = int(numbers[0]), int(numbers[1]), int(numbers[2])\n",
        "result = (a + c) // b\n",
        "print(f\"Результат вычисления: {result}\")"
      ],
      "metadata": {
        "colab": {
          "base_uri": "https://localhost:8080/"
        },
        "id": "0YXgD2yF6LvZ",
        "outputId": "ae72c08e-6635-42d9-d2fc-ebdccdf57019"
      },
      "execution_count": 13,
      "outputs": [
        {
          "output_type": "stream",
          "name": "stdout",
          "text": [
            "Введите 3 числа, разделённых запятой: 2,3,4\n",
            "Результат вычисления: 2\n"
          ]
        }
      ]
    },
    {
      "cell_type": "code",
      "source": [
        "word = input(\"Введите слово (не менее 10 символов): \")\n",
        "print(word[:4], word[-2:], word[4:8], word[::-1])"
      ],
      "metadata": {
        "colab": {
          "base_uri": "https://localhost:8080/"
        },
        "id": "P14cpLnc6Roo",
        "outputId": "fbca8147-e323-44e1-cbc4-1a4aaa105383"
      },
      "execution_count": 14,
      "outputs": [
        {
          "output_type": "stream",
          "name": "stdout",
          "text": [
            "Введите слово (не менее 10 символов): Арфография\n",
            "Арфо ия граф яифаргофрА\n"
          ]
        }
      ]
    }
  ]
}