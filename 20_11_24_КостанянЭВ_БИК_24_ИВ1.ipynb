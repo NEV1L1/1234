{
  "nbformat": 4,
  "nbformat_minor": 0,
  "metadata": {
    "colab": {
      "provenance": [],
      "name": "20.11.24_КостанянЭВ_БИК-24-ИВ1.ipynb",
      "include_colab_link": true
    },
    "kernelspec": {
      "name": "python3",
      "display_name": "Python 3"
    },
    "language_info": {
      "name": "python"
    }
  },
  "cells": [
    {
      "cell_type": "markdown",
      "metadata": {
        "id": "view-in-github",
        "colab_type": "text"
      },
      "source": [
        "<a href=\"https://colab.research.google.com/github/NEV1L1/1234/blob/main/20_11_24_%D0%9A%D0%BE%D1%81%D1%82%D0%B0%D0%BD%D1%8F%D0%BD%D0%AD%D0%92_%D0%91%D0%98%D0%9A_24_%D0%98%D0%921.ipynb\" target=\"_parent\"><img src=\"https://colab.research.google.com/assets/colab-badge.svg\" alt=\"Open In Colab\"/></a>"
      ]
    },
    {
      "cell_type": "markdown",
      "source": [
        "Заданеие №1"
      ],
      "metadata": {
        "id": "rysnHdZgEEUd"
      }
    },
    {
      "cell_type": "code",
      "execution_count": null,
      "metadata": {
        "id": "-X9oOLzUDLKt"
      },
      "outputs": [],
      "source": [
        "list = []\n",
        "list_square = []\n",
        "list_cube = []\n",
        "for num in range(1,11):\n",
        "  list.append(num)\n",
        "  list_square.append(num**2)\n",
        "  list_cube.append(num**3)\n",
        "print(list, list_square, list_cube)"
      ]
    },
    {
      "cell_type": "markdown",
      "source": [
        "Задание №2"
      ],
      "metadata": {
        "id": "LxAetU8kEIYG"
      }
    },
    {
      "cell_type": "code",
      "source": [
        "numbers = []\n",
        "while True:\n",
        "  num = int(input(\"Введите число (0 для завершения)\"))\n",
        "  if num == 0:\n",
        "    break\n",
        "  numbers.append(num)\n",
        "\n",
        "min = min(numbers)\n",
        "print(\"Минимальное значение:\", min)\n",
        "\n",
        "max = max(numbers)\n",
        "print(\"Максимальное значение:\", max)\n",
        "\n",
        "sorted = sorted(numbers)\n",
        "print(\"Отсортированный по возрастанию список:\", sorted)\n",
        "\n",
        "sorted_rev = sorted(numbers, reverse=True)\n",
        "print(\"Отсортированный по убыванию список:\", sorted_rev)\n",
        "\n",
        "list_len = len(numbers)\n",
        "print(\"Количество элементов в списке:\", list_len)\n",
        "\n",
        "list_ones = numbers.count(1)\n",
        "print(\"Количество единиц в списке:\", list_ones)\n",
        "\n",
        "list_sum = sum(numbers)\n",
        "print(\"Сумма всех чисел:\", list_sum)\n",
        "\n",
        "last_index = len(numbers) - 1\n",
        "last_value = numbers[-1]\n",
        "print(\"Индекс последнего элемента:\", last_index)\n",
        "print(\"Значение последнего элемента:\", last_value)"
      ],
      "metadata": {
        "id": "vJYfBRt4EIl0"
      },
      "execution_count": null,
      "outputs": []
    },
    {
      "cell_type": "markdown",
      "source": [
        "Задание №3"
      ],
      "metadata": {
        "id": "uQPXaD_wEIwl"
      }
    },
    {
      "cell_type": "code",
      "source": [
        "nums = []\n",
        "while True:\n",
        "  num = int(input(\"Введите число (0 для завершения)\"))\n",
        "  print(\"Остаток от деления на 10:\", num % 10)\n",
        "  if num == 0:\n",
        "    break\n",
        "  if num % 2 == 0:\n",
        "    nums.append(num)\n",
        "for i in nums:\n",
        "  if nums[i] % 10 == 0:\n",
        "    nums.remove(nums[i])\n",
        "print(nums)"
      ],
      "metadata": {
        "id": "ARogz1SFEI5E"
      },
      "execution_count": null,
      "outputs": []
    }
  ]
}