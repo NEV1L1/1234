{
  "nbformat": 4,
  "nbformat_minor": 0,
  "metadata": {
    "colab": {
      "provenance": [],
      "authorship_tag": "ABX9TyP/nTOHHVcueq8nJW9bf9MQ",
      "include_colab_link": true
    },
    "kernelspec": {
      "name": "python3",
      "display_name": "Python 3"
    },
    "language_info": {
      "name": "python"
    }
  },
  "cells": [
    {
      "cell_type": "markdown",
      "metadata": {
        "id": "view-in-github",
        "colab_type": "text"
      },
      "source": [
        "<a href=\"https://colab.research.google.com/github/NEV1L1/1234/blob/main/%D0%9D%D0%B5%D0%B4%D0%B5%D0%BB%D1%8F2_%D0%9A%D0%BE%D1%81%D1%82%D0%B0%D0%BD%D1%8F%D0%BD%D0%AD%D0%92.ipynb\" target=\"_parent\"><img src=\"https://colab.research.google.com/assets/colab-badge.svg\" alt=\"Open In Colab\"/></a>"
      ]
    },
    {
      "cell_type": "markdown",
      "source": [
        "# **Задача №1** (почему-то импортировать библеотеку приходится в каждом блоке, иначе не находит эту библеотеку в коде)\n"
      ],
      "metadata": {
        "id": "kN-9NIEijj7w"
      }
    },
    {
      "cell_type": "code",
      "source": [
        "import math\n",
        "a = int(input(\"Введи первый катет: \"))\n",
        "b = int(input(\"Введи второй катет: \"))\n",
        "hypotenuse = math.sqrt(a**2 + b**2)\n",
        "print(f\"Гипотенуза равна: {hypotenuse:.2f}\")"
      ],
      "metadata": {
        "id": "qazfRhRWkd1f"
      },
      "execution_count": null,
      "outputs": []
    },
    {
      "cell_type": "markdown",
      "source": [
        "# **Задача №2**\n"
      ],
      "metadata": {
        "id": "-Wskt9-olBGa"
      }
    },
    {
      "cell_type": "code",
      "source": [
        "number = int(input(\"Введи целое число: \"))\n",
        "next_number = number + 1 #следущее число\n",
        "last_number = number - 1 #предыдущее число\n",
        "print(\"The next number for the number\", number, \"is\", next_number, \".\", sep=\" \")\n",
        "print(\"The last number for the number\", number, \"is\", last_number, \".\", sep=\" \")"
      ],
      "metadata": {
        "colab": {
          "base_uri": "https://localhost:8080/"
        },
        "id": "fTeEdbGBlFDr",
        "outputId": "d78f6872-e46c-4904-9a27-645c2b17b609"
      },
      "execution_count": 8,
      "outputs": [
        {
          "output_type": "stream",
          "name": "stdout",
          "text": [
            "Введи целое число: 10\n",
            "The next number for the number 10 is 11 .\n",
            "The last number for the number 10 is 9 .\n"
          ]
        }
      ]
    },
    {
      "cell_type": "markdown",
      "source": [
        "# **Задача №3**"
      ],
      "metadata": {
        "id": "JCh734DWlo62"
      }
    },
    {
      "cell_type": "code",
      "source": [
        "number = input(\"Введи четырехзначное число: \")\n",
        "if number.isdigit() and len(number) == 4: #проверяем эта строка число и точно ли в ней 4 цифры\n",
        "    if number[0] == number[3] and number[1] == number[2]:\n",
        "        print(1)\n",
        "    else:\n",
        "        print(0)\n",
        "else:\n",
        "    print(0)"
      ],
      "metadata": {
        "colab": {
          "base_uri": "https://localhost:8080/"
        },
        "id": "6_ZO1GOulseP",
        "outputId": "055264d6-7164-4773-d7fe-6f54f4e1056d"
      },
      "execution_count": 11,
      "outputs": [
        {
          "output_type": "stream",
          "name": "stdout",
          "text": [
            "Введи четырехзначное число: 1221\n",
            "1\n"
          ]
        }
      ]
    },
    {
      "cell_type": "markdown",
      "source": [
        "# **Задача №4**"
      ],
      "metadata": {
        "id": "yykU2-aTmUcS"
      }
    },
    {
      "cell_type": "code",
      "source": [
        "import math\n",
        "h = int(input())\n",
        "a = int(input())\n",
        "b = int(input())\n",
        "days = math.ceil((h - a) / (a - b))\n",
        "days_top = days + 1\n",
        "print(days_top)"
      ],
      "metadata": {
        "colab": {
          "base_uri": "https://localhost:8080/"
        },
        "id": "hSYy517qmW8W",
        "outputId": "3875d290-ef5f-46a0-b93a-a4a0b52478a9"
      },
      "execution_count": 15,
      "outputs": [
        {
          "output_type": "stream",
          "name": "stdout",
          "text": [
            "10\n",
            "10\n",
            "01\n",
            "1\n"
          ]
        }
      ]
    },
    {
      "cell_type": "markdown",
      "source": [
        "# **Задача №5**"
      ],
      "metadata": {
        "id": "gSdfB_NPn-bW"
      }
    },
    {
      "cell_type": "code",
      "source": [
        "n = int(input(\"Введи кол-во секунд: \"))\n",
        "h = (n // 3600) % 24\n",
        "min = (n % 3600) // 60\n",
        "sec = n % 60\n",
        "time = f\"{h}:{min:02}:{sec:02}\"\n",
        "print(time)"
      ],
      "metadata": {
        "colab": {
          "base_uri": "https://localhost:8080/"
        },
        "id": "rNvpoj4-oBug",
        "outputId": "b1d936af-0556-4eb9-cbfc-474815d3e556"
      },
      "execution_count": 16,
      "outputs": [
        {
          "output_type": "stream",
          "name": "stdout",
          "text": [
            "Введи кол-во секунд: 120\n",
            "0:02:00\n"
          ]
        }
      ]
    },
    {
      "cell_type": "markdown",
      "source": [
        "# **задача №6**"
      ],
      "metadata": {
        "id": "qvIbgc17oQaW"
      }
    },
    {
      "cell_type": "code",
      "source": [
        "h1 = int(input(\"hour1: \"))\n",
        "min1 = int(input(\"minute1: \"))\n",
        "sec1 = int(input(\"second1: \"))\n",
        "h2 = int(input(\"hour2: \"))\n",
        "min2 = int(input(\"minute2: \"))\n",
        "sec2 = int(input(\"second2: \"))\n",
        "raznica = (h1 * 3600 + min1 * 60 + sec1) - (h2 * 3600 + min2 * 60 + sec2)\n",
        "print(raznica)\n"
      ],
      "metadata": {
        "colab": {
          "base_uri": "https://localhost:8080/"
        },
        "id": "9xWyZRAuoTQn",
        "outputId": "7801e833-309a-4b39-80f5-aefa480b479b"
      },
      "execution_count": 17,
      "outputs": [
        {
          "output_type": "stream",
          "name": "stdout",
          "text": [
            "hour1: 1\n",
            "minute1: 60\n",
            "second1: 10\n",
            "hour2: 2\n",
            "minute2: 30\n",
            "second2: 20\n",
            "-1810\n"
          ]
        }
      ]
    },
    {
      "cell_type": "markdown",
      "source": [
        "# **Задача №7**"
      ],
      "metadata": {
        "id": "CdXOLRKipZtc"
      }
    },
    {
      "cell_type": "code",
      "source": [
        "a = input()\n",
        "b = input()\n",
        "c = a\n",
        "a = b\n",
        "b = c\n",
        "print(a, b)\n"
      ],
      "metadata": {
        "id": "xOdsf1YKpdQz"
      },
      "execution_count": null,
      "outputs": []
    },
    {
      "cell_type": "markdown",
      "source": [
        "# **Задача №8**"
      ],
      "metadata": {
        "id": "pOB3XqX_piaD"
      }
    },
    {
      "cell_type": "code",
      "source": [
        "n = int(input(\"Введи кол-во школьников: \"))\n",
        "k = int(input(\"Введи кол-во яблок: \"))\n",
        "result = n - (k % n)\n",
        "print(result)\n"
      ],
      "metadata": {
        "colab": {
          "base_uri": "https://localhost:8080/"
        },
        "id": "H3cf2C_YpleL",
        "outputId": "d905b1b8-0b08-4914-cb52-39f318115607"
      },
      "execution_count": 21,
      "outputs": [
        {
          "output_type": "stream",
          "name": "stdout",
          "text": [
            "Введи кол-во школьников: 20\n",
            "Введи кол-во яблок: 10\n",
            "10\n"
          ]
        }
      ]
    },
    {
      "cell_type": "markdown",
      "source": [
        "Задача 9\n"
      ],
      "metadata": {
        "id": "V_rjxnC3rJt9"
      }
    },
    {
      "cell_type": "code",
      "source": [
        "num = int(input())\n",
        "a = num % 10\n",
        "b = (num % 100) // 10\n",
        "c = num // 100\n",
        "summ = a + b + c\n",
        "print(\"Сумма:\", summ)"
      ],
      "metadata": {
        "colab": {
          "base_uri": "https://localhost:8080/"
        },
        "id": "gJRRr_3arK6V",
        "outputId": "a2eab243-b133-47fa-8207-64560b1b66d0"
      },
      "execution_count": 24,
      "outputs": [
        {
          "output_type": "stream",
          "name": "stdout",
          "text": [
            "123\n",
            "Сумма: 6\n"
          ]
        }
      ]
    },
    {
      "cell_type": "code",
      "source": [],
      "metadata": {
        "id": "YM7gcEL-rOdV"
      },
      "execution_count": null,
      "outputs": []
    }
  ]
}