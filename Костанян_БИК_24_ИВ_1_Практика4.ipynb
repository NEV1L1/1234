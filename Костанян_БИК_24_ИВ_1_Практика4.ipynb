{
  "nbformat": 4,
  "nbformat_minor": 0,
  "metadata": {
    "colab": {
      "provenance": [],
      "authorship_tag": "ABX9TyNcrwJCP/EC5Zw+EsZ/1wtZ",
      "include_colab_link": true
    },
    "kernelspec": {
      "name": "python3",
      "display_name": "Python 3"
    },
    "language_info": {
      "name": "python"
    }
  },
  "cells": [
    {
      "cell_type": "markdown",
      "metadata": {
        "id": "view-in-github",
        "colab_type": "text"
      },
      "source": [
        "<a href=\"https://colab.research.google.com/github/NEV1L1/1234/blob/main/%D0%9A%D0%BE%D1%81%D1%82%D0%B0%D0%BD%D1%8F%D0%BD_%D0%91%D0%98%D0%9A_24_%D0%98%D0%92_1_%D0%9F%D1%80%D0%B0%D0%BA%D1%82%D0%B8%D0%BA%D0%B04.ipynb\" target=\"_parent\"><img src=\"https://colab.research.google.com/assets/colab-badge.svg\" alt=\"Open In Colab\"/></a>"
      ]
    },
    {
      "cell_type": "code",
      "execution_count": 7,
      "metadata": {
        "colab": {
          "base_uri": "https://localhost:8080/"
        },
        "id": "G4HZOX3GKIGF",
        "outputId": "3e162d00-216c-4662-c784-c134a5820b89"
      },
      "outputs": [
        {
          "output_type": "stream",
          "name": "stdout",
          "text": [
            "405\n",
            "Method Not Allowed\n"
          ]
        }
      ],
      "source": [
        "error = input(\"\")\n",
        "match error:\n",
        "  case(\"400\"):\n",
        "    print(\"Bad Request\")\n",
        "  case(\"401\"):\n",
        "    print(\"Unauthorized \")\n",
        "  case(\"402\"):\n",
        "    print(\"Payment Required\")\n",
        "  case(\"403\"):\n",
        "    print(\"Forbidden\")\n",
        "  case(\"404\"):\n",
        "    print(\"Not Found\")\n",
        "  case(\"405\"):\n",
        "    print(\"Method Not Allowed\")"
      ]
    },
    {
      "cell_type": "code",
      "source": [
        "x = input(\"Введите коoрдинаты точки x: \")\n",
        "y = input(\"Введите коoрдинаты точки y: \")\n",
        "if int(x) > 0 and int(y) > 0:\n",
        "  print(\"Точка лежит на первой координатной четверти\")\n",
        "if int(x) > 0 and int(y) < 0:\n",
        "  print(\"Точка лежит на четвертой координатной четверти\")\n",
        "if int(x) < 0 and int(y) > 0:\n",
        "  print(\"Точка лежит на второй координатной четверти\")\n",
        "if int(x) < 0 and int(y) < 0:\n",
        "  print(\"Точка лежит на третей координатной четверти\")\n"
      ],
      "metadata": {
        "colab": {
          "base_uri": "https://localhost:8080/"
        },
        "id": "bTx8wkKdM2gv",
        "outputId": "d90c26d3-db5d-48ed-8bfa-4cadb95b5a22"
      },
      "execution_count": 10,
      "outputs": [
        {
          "output_type": "stream",
          "name": "stdout",
          "text": [
            "Введите коoрдинаты точки x: -10\n",
            "Введите коoрдинаты точки y: -10\n",
            "Точка лежит на третей координатной четверти\n"
          ]
        }
      ]
    },
    {
      "cell_type": "code",
      "source": [
        "year = int(input(\"Введите год: \"))\n",
        "if (year % 4 == 0) or (year % 100 != 0 and year % 400 == 0):\n",
        "  print(\"ДА\")\n",
        "else:\n",
        "  print(\"НЕТ\")"
      ],
      "metadata": {
        "colab": {
          "base_uri": "https://localhost:8080/"
        },
        "id": "jlTOhd0COuDX",
        "outputId": "c4a1c3e8-21c2-4d2b-c242-d4da4954a5db"
      },
      "execution_count": 16,
      "outputs": [
        {
          "output_type": "stream",
          "name": "stdout",
          "text": [
            "Введите год: 1900\n",
            "ДА\n"
          ]
        }
      ]
    },
    {
      "cell_type": "code",
      "source": [
        "print"
      ],
      "metadata": {
        "id": "P2B1YZITQuKl"
      },
      "execution_count": null,
      "outputs": []
    }
  ]
}